{
 "cells": [
  {
   "cell_type": "markdown",
   "id": "1f94ed3b-0f70-4a42-af2b-72b462176bdb",
   "metadata": {},
   "source": [
    "# zip in py"
   ]
  },
  {
   "cell_type": "code",
   "execution_count": 4,
   "id": "462c395d-c557-46b2-9ad2-5ac598b3b987",
   "metadata": {},
   "outputs": [],
   "source": [
    "a = [1,2,3,4]\n",
    "b = [\"a\",\"b\",\"c\",\"d\"]\n",
    "c = zip(a,b)"
   ]
  },
  {
   "cell_type": "code",
   "execution_count": 26,
   "id": "90d0e81a-091b-4274-9ecb-5161eb875e55",
   "metadata": {},
   "outputs": [
    {
     "data": {
      "text/markdown": [
       "---\n",
       "\n",
       "### zip\n",
       "\n",
       "\n",
       "\n",
       "zip(*iterables, strict=False) --> Yield tuples until an input is exhausted.\n",
       "\n",
       "   >>> list(zip('abcdefg', range(3), range(4)))\n",
       "   [('a', 0, 0), ('b', 1, 1), ('c', 2, 2)]\n",
       "\n",
       "The zip object yields n-length tuples, where n is the number of iterables\n",
       "passed as positional arguments to zip().  The i-th element in every tuple\n",
       "comes from the i-th iterable argument to zip().  This continues until the\n",
       "shortest argument is exhausted.\n",
       "\n",
       "If strict is true and one of the arguments is exhausted before the others,\n",
       "raise a ValueError."
      ],
      "text/plain": [
       "<IPython.core.display.Markdown object>"
      ]
     },
     "metadata": {},
     "output_type": "display_data"
    }
   ],
   "source": [
    "from fastbook import *\n",
    "doc(zip)"
   ]
  },
  {
   "cell_type": "code",
   "execution_count": 24,
   "id": "e916ba83-9007-47a6-b96c-db5662182a43",
   "metadata": {},
   "outputs": [
    {
     "name": "stdout",
     "output_type": "stream",
     "text": [
      "(1, 'a')\n",
      "(2, 'b')\n",
      "(3, 'c')\n",
      "(4, 'd')\n"
     ]
    }
   ],
   "source": [
    "for o in c:\n",
    "    print(o)"
   ]
  },
  {
   "cell_type": "markdown",
   "id": "0e0eb2fd-21da-4f26-b895-f680be082e11",
   "metadata": {},
   "source": [
    "# Dictionary Comprehension"
   ]
  },
  {
   "cell_type": "code",
   "execution_count": 33,
   "id": "2936ca84-ca20-4170-994c-2e620e122c61",
   "metadata": {},
   "outputs": [
    {
     "name": "stdout",
     "output_type": "stream",
     "text": [
      "{1: 'a', 2: 'b', 3: 'c', 4: 'd'}\n"
     ]
    }
   ],
   "source": [
    "myDict = { x:y for (x,y) in  zip(a,b)}\n",
    "print (myDict)"
   ]
  },
  {
   "cell_type": "code",
   "execution_count": 40,
   "id": "fdc6067a-fdb8-4017-9138-fe3a61709788",
   "metadata": {},
   "outputs": [
    {
     "ename": "SyntaxError",
     "evalue": "cannot assign to dict literal (317983648.py, line 1)",
     "output_type": "error",
     "traceback": [
      "\u001b[1;36m  Input \u001b[1;32mIn [40]\u001b[1;36m\u001b[0m\n\u001b[1;33m    myDict2 =  { z:z**2 for {z:w} in  myDict}\u001b[0m\n\u001b[1;37m                            ^\u001b[0m\n\u001b[1;31mSyntaxError\u001b[0m\u001b[1;31m:\u001b[0m cannot assign to dict literal\n"
     ]
    }
   ],
   "source": [
    "myDict2 =  { z:z**2 for {z:w} in  myDict}"
   ]
  },
  {
   "cell_type": "code",
   "execution_count": 42,
   "id": "41592750-4095-4041-b08a-947868c5124e",
   "metadata": {},
   "outputs": [
    {
     "data": {
      "text/plain": [
       "{1: 1, 2: 4, 3: 9, 4: 16}"
      ]
     },
     "execution_count": 42,
     "metadata": {},
     "output_type": "execute_result"
    }
   ],
   "source": [
    "myDict2 =  { z:z**2 for (z,w) in  myDict.items()}\n",
    "myDict2"
   ]
  }
 ],
 "metadata": {
  "kernelspec": {
   "display_name": "Python 3 (ipykernel)",
   "language": "python",
   "name": "python3"
  },
  "language_info": {
   "codemirror_mode": {
    "name": "ipython",
    "version": 3
   },
   "file_extension": ".py",
   "mimetype": "text/x-python",
   "name": "python",
   "nbconvert_exporter": "python",
   "pygments_lexer": "ipython3",
   "version": "3.10.4"
  }
 },
 "nbformat": 4,
 "nbformat_minor": 5
}
